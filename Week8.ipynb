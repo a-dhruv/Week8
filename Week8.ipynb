{
 "cells": [
  {
   "cell_type": "markdown",
   "metadata": {},
   "source": [
    "## Clustering Methods"
   ]
  },
  {
   "cell_type": "code",
   "execution_count": null,
   "metadata": {},
   "outputs": [],
   "source": [
    "##Intro\n",
    "\n"
   ]
  },
  {
   "cell_type": "code",
   "execution_count": 30,
   "metadata": {},
   "outputs": [
    {
     "name": "stderr",
     "output_type": "stream",
     "text": [
      "Warning message:\n",
      "\"unable to access index for repository https://mran.microsoft.com/snapshot/2017-09-01/src/contrib:\n",
      "  cannot open destfile 'C:\\Users\\Dhruv\\AppData\\Local\\Temp\\RtmpYxXpOQ\\file1f5037b94687', reason 'No such file or directory'\"Warning message:\n",
      "\"unable to access index for repository http://www.stats.ox.ac.uk/pub/RWin/src/contrib:\n",
      "  cannot open destfile 'C:\\Users\\Dhruv\\AppData\\Local\\Temp\\RtmpYxXpOQ\\file1f501b65d94', reason 'No such file or directory'\"Warning message:\n",
      "\"package 'factoextra' is not available (for R version 3.4.3)\"Warning message in gzfile(file, mode):\n",
      "\"cannot open compressed file 'C:\\Users\\Dhruv\\AppData\\Local\\Temp\\RtmpYxXpOQ/libloc_202_e7ec3908.rds', probable reason 'No such file or directory'\""
     ]
    },
    {
     "ename": "ERROR",
     "evalue": "Error in gzfile(file, mode): cannot open the connection\n",
     "output_type": "error",
     "traceback": [
      "Error in gzfile(file, mode): cannot open the connection\nTraceback:\n",
      "1. install.packages(\"factoextra\")",
      "2. getDependencies(pkgs, dependencies, available, lib)",
      "3. installed.packages(lib.loc = libpath, fields = c(\"Package\", \"Version\"))",
      "4. saveRDS(list(base = base, value = ret0), dest)",
      "5. gzfile(file, mode)"
     ]
    }
   ],
   "source": [
    "install.packages(\"factoextra\")\n",
    "install.packages(\"ISLR\")\n",
    "install.packages(\"dbscan\")\n",
    "install.packages(\"NbClust\")\n",
    "install.packages(\"mlbench\")\n"
   ]
  },
  {
   "cell_type": "code",
   "execution_count": 31,
   "metadata": {},
   "outputs": [],
   "source": [
    "library(ISLR)\n",
    "library(cluster)\n",
    "library(dbscan)\n",
    "library(factoextra)\n",
    "library(NbClust)\n",
    "library(fpc)\n",
    "library(ggplot2)\n",
    "library(mlbench)\n",
    "data(BreastCancer)\n",
    "data(Glass)\n",
    "data(Sonar)"
   ]
  },
  {
   "cell_type": "code",
   "execution_count": 32,
   "metadata": {},
   "outputs": [
    {
     "data": {
      "text/html": [
       "<table>\n",
       "<thead><tr><th scope=col>RI</th><th scope=col>Na</th><th scope=col>Mg</th><th scope=col>Al</th><th scope=col>Si</th><th scope=col>K</th><th scope=col>Ca</th><th scope=col>Ba</th><th scope=col>Fe</th><th scope=col>Type</th></tr></thead>\n",
       "<tbody>\n",
       "\t<tr><td>1.52101</td><td>13.64  </td><td>4.49   </td><td>1.10   </td><td>71.78  </td><td>0.06   </td><td>8.75   </td><td>0      </td><td>0.00   </td><td>1      </td></tr>\n",
       "\t<tr><td>1.51761</td><td>13.89  </td><td>3.60   </td><td>1.36   </td><td>72.73  </td><td>0.48   </td><td>7.83   </td><td>0      </td><td>0.00   </td><td>1      </td></tr>\n",
       "\t<tr><td>1.51618</td><td>13.53  </td><td>3.55   </td><td>1.54   </td><td>72.99  </td><td>0.39   </td><td>7.78   </td><td>0      </td><td>0.00   </td><td>1      </td></tr>\n",
       "\t<tr><td>1.51766</td><td>13.21  </td><td>3.69   </td><td>1.29   </td><td>72.61  </td><td>0.57   </td><td>8.22   </td><td>0      </td><td>0.00   </td><td>1      </td></tr>\n",
       "\t<tr><td>1.51742</td><td>13.27  </td><td>3.62   </td><td>1.24   </td><td>73.08  </td><td>0.55   </td><td>8.07   </td><td>0      </td><td>0.00   </td><td>1      </td></tr>\n",
       "\t<tr><td>1.51596</td><td>12.79  </td><td>3.61   </td><td>1.62   </td><td>72.97  </td><td>0.64   </td><td>8.07   </td><td>0      </td><td>0.26   </td><td>1      </td></tr>\n",
       "</tbody>\n",
       "</table>\n"
      ],
      "text/latex": [
       "\\begin{tabular}{r|llllllllll}\n",
       " RI & Na & Mg & Al & Si & K & Ca & Ba & Fe & Type\\\\\n",
       "\\hline\n",
       "\t 1.52101 & 13.64   & 4.49    & 1.10    & 71.78   & 0.06    & 8.75    & 0       & 0.00    & 1      \\\\\n",
       "\t 1.51761 & 13.89   & 3.60    & 1.36    & 72.73   & 0.48    & 7.83    & 0       & 0.00    & 1      \\\\\n",
       "\t 1.51618 & 13.53   & 3.55    & 1.54    & 72.99   & 0.39    & 7.78    & 0       & 0.00    & 1      \\\\\n",
       "\t 1.51766 & 13.21   & 3.69    & 1.29    & 72.61   & 0.57    & 8.22    & 0       & 0.00    & 1      \\\\\n",
       "\t 1.51742 & 13.27   & 3.62    & 1.24    & 73.08   & 0.55    & 8.07    & 0       & 0.00    & 1      \\\\\n",
       "\t 1.51596 & 12.79   & 3.61    & 1.62    & 72.97   & 0.64    & 8.07    & 0       & 0.26    & 1      \\\\\n",
       "\\end{tabular}\n"
      ],
      "text/markdown": [
       "\n",
       "RI | Na | Mg | Al | Si | K | Ca | Ba | Fe | Type | \n",
       "|---|---|---|---|---|---|\n",
       "| 1.52101 | 13.64   | 4.49    | 1.10    | 71.78   | 0.06    | 8.75    | 0       | 0.00    | 1       | \n",
       "| 1.51761 | 13.89   | 3.60    | 1.36    | 72.73   | 0.48    | 7.83    | 0       | 0.00    | 1       | \n",
       "| 1.51618 | 13.53   | 3.55    | 1.54    | 72.99   | 0.39    | 7.78    | 0       | 0.00    | 1       | \n",
       "| 1.51766 | 13.21   | 3.69    | 1.29    | 72.61   | 0.57    | 8.22    | 0       | 0.00    | 1       | \n",
       "| 1.51742 | 13.27   | 3.62    | 1.24    | 73.08   | 0.55    | 8.07    | 0       | 0.00    | 1       | \n",
       "| 1.51596 | 12.79   | 3.61    | 1.62    | 72.97   | 0.64    | 8.07    | 0       | 0.26    | 1       | \n",
       "\n",
       "\n"
      ],
      "text/plain": [
       "  RI      Na    Mg   Al   Si    K    Ca   Ba Fe   Type\n",
       "1 1.52101 13.64 4.49 1.10 71.78 0.06 8.75 0  0.00 1   \n",
       "2 1.51761 13.89 3.60 1.36 72.73 0.48 7.83 0  0.00 1   \n",
       "3 1.51618 13.53 3.55 1.54 72.99 0.39 7.78 0  0.00 1   \n",
       "4 1.51766 13.21 3.69 1.29 72.61 0.57 8.22 0  0.00 1   \n",
       "5 1.51742 13.27 3.62 1.24 73.08 0.55 8.07 0  0.00 1   \n",
       "6 1.51596 12.79 3.61 1.62 72.97 0.64 8.07 0  0.26 1   "
      ]
     },
     "metadata": {},
     "output_type": "display_data"
    }
   ],
   "source": [
    "head(Glass)\n",
    "data=Glass"
   ]
  },
  {
   "cell_type": "code",
   "execution_count": 33,
   "metadata": {},
   "outputs": [],
   "source": [
    "#data$num_class = factor(data$Class)\n",
    "#data$num_class = as.numeric(data$num_class)"
   ]
  },
  {
   "cell_type": "code",
   "execution_count": 34,
   "metadata": {
    "scrolled": true
   },
   "outputs": [],
   "source": [
    "#data$num_class = factor(data$Class)\n",
    "#data$num_class = as.numeric(data$num_class)"
   ]
  },
  {
   "cell_type": "code",
   "execution_count": 35,
   "metadata": {},
   "outputs": [],
   "source": [
    "#data$Class = NULL\n",
    "#data$Id = NULL\n",
    "#na.omit(data)"
   ]
  },
  {
   "cell_type": "code",
   "execution_count": 36,
   "metadata": {},
   "outputs": [],
   "source": [
    "#data = as.data.frame(data, row.names = NULL, optional = FALSE)"
   ]
  },
  {
   "cell_type": "code",
   "execution_count": 37,
   "metadata": {},
   "outputs": [
    {
     "data": {
      "text/html": [
       "<table>\n",
       "<thead><tr><th scope=col>RI</th><th scope=col>Na</th><th scope=col>Mg</th><th scope=col>Al</th><th scope=col>Si</th><th scope=col>K</th><th scope=col>Ca</th><th scope=col>Ba</th><th scope=col>Fe</th><th scope=col>Type</th></tr></thead>\n",
       "<tbody>\n",
       "\t<tr><td>1.52101</td><td>13.64  </td><td>4.49   </td><td>1.10   </td><td>71.78  </td><td>0.06   </td><td>8.75   </td><td>0      </td><td>0.00   </td><td>1      </td></tr>\n",
       "\t<tr><td>1.51761</td><td>13.89  </td><td>3.60   </td><td>1.36   </td><td>72.73  </td><td>0.48   </td><td>7.83   </td><td>0      </td><td>0.00   </td><td>1      </td></tr>\n",
       "\t<tr><td>1.51618</td><td>13.53  </td><td>3.55   </td><td>1.54   </td><td>72.99  </td><td>0.39   </td><td>7.78   </td><td>0      </td><td>0.00   </td><td>1      </td></tr>\n",
       "\t<tr><td>1.51766</td><td>13.21  </td><td>3.69   </td><td>1.29   </td><td>72.61  </td><td>0.57   </td><td>8.22   </td><td>0      </td><td>0.00   </td><td>1      </td></tr>\n",
       "\t<tr><td>1.51742</td><td>13.27  </td><td>3.62   </td><td>1.24   </td><td>73.08  </td><td>0.55   </td><td>8.07   </td><td>0      </td><td>0.00   </td><td>1      </td></tr>\n",
       "\t<tr><td>1.51596</td><td>12.79  </td><td>3.61   </td><td>1.62   </td><td>72.97  </td><td>0.64   </td><td>8.07   </td><td>0      </td><td>0.26   </td><td>1      </td></tr>\n",
       "</tbody>\n",
       "</table>\n"
      ],
      "text/latex": [
       "\\begin{tabular}{r|llllllllll}\n",
       " RI & Na & Mg & Al & Si & K & Ca & Ba & Fe & Type\\\\\n",
       "\\hline\n",
       "\t 1.52101 & 13.64   & 4.49    & 1.10    & 71.78   & 0.06    & 8.75    & 0       & 0.00    & 1      \\\\\n",
       "\t 1.51761 & 13.89   & 3.60    & 1.36    & 72.73   & 0.48    & 7.83    & 0       & 0.00    & 1      \\\\\n",
       "\t 1.51618 & 13.53   & 3.55    & 1.54    & 72.99   & 0.39    & 7.78    & 0       & 0.00    & 1      \\\\\n",
       "\t 1.51766 & 13.21   & 3.69    & 1.29    & 72.61   & 0.57    & 8.22    & 0       & 0.00    & 1      \\\\\n",
       "\t 1.51742 & 13.27   & 3.62    & 1.24    & 73.08   & 0.55    & 8.07    & 0       & 0.00    & 1      \\\\\n",
       "\t 1.51596 & 12.79   & 3.61    & 1.62    & 72.97   & 0.64    & 8.07    & 0       & 0.26    & 1      \\\\\n",
       "\\end{tabular}\n"
      ],
      "text/markdown": [
       "\n",
       "RI | Na | Mg | Al | Si | K | Ca | Ba | Fe | Type | \n",
       "|---|---|---|---|---|---|\n",
       "| 1.52101 | 13.64   | 4.49    | 1.10    | 71.78   | 0.06    | 8.75    | 0       | 0.00    | 1       | \n",
       "| 1.51761 | 13.89   | 3.60    | 1.36    | 72.73   | 0.48    | 7.83    | 0       | 0.00    | 1       | \n",
       "| 1.51618 | 13.53   | 3.55    | 1.54    | 72.99   | 0.39    | 7.78    | 0       | 0.00    | 1       | \n",
       "| 1.51766 | 13.21   | 3.69    | 1.29    | 72.61   | 0.57    | 8.22    | 0       | 0.00    | 1       | \n",
       "| 1.51742 | 13.27   | 3.62    | 1.24    | 73.08   | 0.55    | 8.07    | 0       | 0.00    | 1       | \n",
       "| 1.51596 | 12.79   | 3.61    | 1.62    | 72.97   | 0.64    | 8.07    | 0       | 0.26    | 1       | \n",
       "\n",
       "\n"
      ],
      "text/plain": [
       "  RI      Na    Mg   Al   Si    K    Ca   Ba Fe   Type\n",
       "1 1.52101 13.64 4.49 1.10 71.78 0.06 8.75 0  0.00 1   \n",
       "2 1.51761 13.89 3.60 1.36 72.73 0.48 7.83 0  0.00 1   \n",
       "3 1.51618 13.53 3.55 1.54 72.99 0.39 7.78 0  0.00 1   \n",
       "4 1.51766 13.21 3.69 1.29 72.61 0.57 8.22 0  0.00 1   \n",
       "5 1.51742 13.27 3.62 1.24 73.08 0.55 8.07 0  0.00 1   \n",
       "6 1.51596 12.79 3.61 1.62 72.97 0.64 8.07 0  0.26 1   "
      ]
     },
     "metadata": {},
     "output_type": "display_data"
    },
    {
     "data": {
      "text/plain": [
       "       RI              Na              Mg              Al       \n",
       " Min.   :1.511   Min.   :10.73   Min.   :0.000   Min.   :0.290  \n",
       " 1st Qu.:1.517   1st Qu.:12.91   1st Qu.:2.115   1st Qu.:1.190  \n",
       " Median :1.518   Median :13.30   Median :3.480   Median :1.360  \n",
       " Mean   :1.518   Mean   :13.41   Mean   :2.685   Mean   :1.445  \n",
       " 3rd Qu.:1.519   3rd Qu.:13.82   3rd Qu.:3.600   3rd Qu.:1.630  \n",
       " Max.   :1.534   Max.   :17.38   Max.   :4.490   Max.   :3.500  \n",
       "       Si              K                Ca               Ba       \n",
       " Min.   :69.81   Min.   :0.0000   Min.   : 5.430   Min.   :0.000  \n",
       " 1st Qu.:72.28   1st Qu.:0.1225   1st Qu.: 8.240   1st Qu.:0.000  \n",
       " Median :72.79   Median :0.5550   Median : 8.600   Median :0.000  \n",
       " Mean   :72.65   Mean   :0.4971   Mean   : 8.957   Mean   :0.175  \n",
       " 3rd Qu.:73.09   3rd Qu.:0.6100   3rd Qu.: 9.172   3rd Qu.:0.000  \n",
       " Max.   :75.41   Max.   :6.2100   Max.   :16.190   Max.   :3.150  \n",
       "       Fe          Type  \n",
       " Min.   :0.00000   1:70  \n",
       " 1st Qu.:0.00000   2:76  \n",
       " Median :0.00000   3:17  \n",
       " Mean   :0.05701   5:13  \n",
       " 3rd Qu.:0.10000   6: 9  \n",
       " Max.   :0.51000   7:29  "
      ]
     },
     "metadata": {},
     "output_type": "display_data"
    }
   ],
   "source": [
    "head(data)\n",
    "summary(data)\n",
    "data$Type = as.numeric(data$Type)"
   ]
  },
  {
   "cell_type": "code",
   "execution_count": 38,
   "metadata": {},
   "outputs": [
    {
     "ename": "ERROR",
     "evalue": "Error in parse(text = x, srcfile = src): <text>:1:5: unexpected symbol\n1: The elbow\n        ^\n",
     "output_type": "error",
     "traceback": [
      "Error in parse(text = x, srcfile = src): <text>:1:5: unexpected symbol\n1: The elbow\n        ^\nTraceback:\n"
     ]
    }
   ],
   "source": [
    "The elbow method uses the fviz nblust package to determine the number of clusters within the dataset.using within clusters sum of squares"
   ]
  },
  {
   "cell_type": "code",
   "execution_count": 39,
   "metadata": {},
   "outputs": [
    {
     "data": {},
     "metadata": {},
     "output_type": "display_data"
    },
    {
     "ename": "ERROR",
     "evalue": "Error in png(tf, width, height, \"in\", pointsize, bg, res, antialias = antialias): unable to start png() device\n",
     "output_type": "error",
     "traceback": [
      "Error in png(tf, width, height, \"in\", pointsize, bg, res, antialias = antialias): unable to start png() device\nTraceback:\n"
     ]
    },
    {
     "data": {
      "text/plain": [
       "plot without title"
      ]
     },
     "metadata": {},
     "output_type": "display_data"
    }
   ],
   "source": [
    "fviz_nbclust(data,kmeans,method = \"wss\") +\n",
    "geom_vline(xintercept = 7, linetype = 2) + \n",
    "labs(subtitle = \"Elbow Method\")"
   ]
  },
  {
   "cell_type": "code",
   "execution_count": 40,
   "metadata": {},
   "outputs": [
    {
     "name": "stderr",
     "output_type": "stream",
     "text": [
      "Warning message in pf(beale, pp, df2):\n",
      "\"NaNs produced\""
     ]
    },
    {
     "name": "stdout",
     "output_type": "stream",
     "text": [
      "*** : The Hubert index is a graphical method of determining the number of clusters.\n",
      "                In the plot of Hubert index, we seek a significant knee that corresponds to a \n",
      "                significant increase of the value of the measure i.e the significant peak in Hubert\n",
      "                index second differences plot. \n",
      " \n"
     ]
    },
    {
     "ename": "ERROR",
     "evalue": "Error in png(tf, width, height, \"in\", pointsize, bg, res, antialias = antialias): unable to start png() device\n",
     "output_type": "error",
     "traceback": [
      "Error in png(tf, width, height, \"in\", pointsize, bg, res, antialias = antialias): unable to start png() device\nTraceback:\n"
     ]
    },
    {
     "data": {
      "text/plain": [
       "plot without title"
      ]
     },
     "metadata": {},
     "output_type": "display_data"
    },
    {
     "name": "stdout",
     "output_type": "stream",
     "text": [
      "*** : The D index is a graphical method of determining the number of clusters. \n",
      "                In the plot of D index, we seek a significant knee (the significant peak in Dindex\n",
      "                second differences plot) that corresponds to a significant increase of the value of\n",
      "                the measure. \n",
      " \n",
      "******************************************************************* \n",
      "* Among all indices:                                                \n",
      "* 6 proposed 2 as the best number of clusters \n",
      "* 6 proposed 3 as the best number of clusters \n",
      "* 5 proposed 4 as the best number of clusters \n",
      "* 2 proposed 6 as the best number of clusters \n",
      "* 4 proposed 9 as the best number of clusters \n",
      "\n",
      "                   ***** Conclusion *****                            \n",
      " \n",
      "* According to the majority rule, the best number of clusters is  2 \n",
      " \n",
      " \n",
      "******************************************************************* \n"
     ]
    },
    {
     "ename": "ERROR",
     "evalue": "Error in png(tf, width, height, \"in\", pointsize, bg, res, antialias = antialias): unable to start png() device\n",
     "output_type": "error",
     "traceback": [
      "Error in png(tf, width, height, \"in\", pointsize, bg, res, antialias = antialias): unable to start png() device\nTraceback:\n"
     ]
    },
    {
     "data": {
      "text/plain": [
       "plot without title"
      ]
     },
     "metadata": {},
     "output_type": "display_data"
    }
   ],
   "source": [
    "#t(data)%*%as.matrix(data)\n",
    "\n",
    "nb = NbClust( data, distance = \"euclidean\", min.nc = 2,\n",
    "            max.nc = 10, method = \"kmean\")"
   ]
  },
  {
   "cell_type": "code",
   "execution_count": null,
   "metadata": {
    "scrolled": false
   },
   "outputs": [],
   "source": [
    "clus = kmeans(data, centers = 7)\n",
    "clusplot(data, clus$cluster, color = TRUE,\n",
    "         share = TRUE, Labels = 2, lines =  0)"
   ]
  },
  {
   "cell_type": "code",
   "execution_count": null,
   "metadata": {},
   "outputs": [],
   "source": [
    "nb1 = NbClust( data, distance = \"euclidean\", min.nc = 2,\n",
    "            max.nc = 10, method = \"ward.D2\")"
   ]
  },
  {
   "cell_type": "code",
   "execution_count": null,
   "metadata": {},
   "outputs": [],
   "source": [
    "dst = dist(data, method = \"euclidean\")\n",
    "fit = hclust(dst, method = \"ward.D2\")\n",
    "plot(fit)\n",
    "groups = cutree(fit, k=7)\n",
    "rect.hclust(fit, k=7, border = \"red\")"
   ]
  },
  {
   "cell_type": "code",
   "execution_count": null,
   "metadata": {
    "scrolled": true
   },
   "outputs": [],
   "source": [
    "kNNdist(data, k=7, search = \"kd\")\n"
   ]
  },
  {
   "cell_type": "code",
   "execution_count": null,
   "metadata": {},
   "outputs": [],
   "source": [
    "kNNdistplot(data, k=7)\n",
    "abline(h=.75)"
   ]
  },
  {
   "cell_type": "code",
   "execution_count": null,
   "metadata": {},
   "outputs": [],
   "source": [
    "db1 = dbscan(data, eps = .5)\n",
    "fviz_cluster(db1, data, )"
   ]
  },
  {
   "cell_type": "code",
   "execution_count": null,
   "metadata": {},
   "outputs": [],
   "source": [
    "fviz_cluster(db1, data, choose.vars = NULL, stand = TRUE,\n",
    "  axes = c(1, 2), geom = c(\"point\"), repel = FALSE,\n",
    "  show.clust.cent = TRUE, ellipse = TRUE, ellipse.type = \"convex\",\n",
    "  ellipse.level = 0.95, ellipse.alpha = 0.2, shape = NULL,\n",
    "  pointsize = 1.5, labelsize = 12, main = \"Cluster plot\", outlier.color = \"black\", outlier.shape = 19)"
   ]
  },
  {
   "cell_type": "code",
   "execution_count": null,
   "metadata": {},
   "outputs": [],
   "source": [
    "within clust4ers sum of squares measures the sqared error\n"
   ]
  },
  {
   "cell_type": "code",
   "execution_count": null,
   "metadata": {},
   "outputs": [],
   "source": []
  },
  {
   "cell_type": "code",
   "execution_count": null,
   "metadata": {},
   "outputs": [],
   "source": []
  },
  {
   "cell_type": "code",
   "execution_count": null,
   "metadata": {},
   "outputs": [],
   "source": []
  },
  {
   "cell_type": "code",
   "execution_count": null,
   "metadata": {},
   "outputs": [],
   "source": []
  }
 ],
 "metadata": {
  "kernelspec": {
   "display_name": "R",
   "language": "R",
   "name": "ir"
  },
  "language_info": {
   "codemirror_mode": "r",
   "file_extension": ".r",
   "mimetype": "text/x-r-source",
   "name": "R",
   "pygments_lexer": "r",
   "version": "3.4.3"
  }
 },
 "nbformat": 4,
 "nbformat_minor": 2
}
